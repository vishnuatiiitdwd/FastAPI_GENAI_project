{
 "cells": [
  {
   "cell_type": "code",
   "execution_count": 3,
   "metadata": {},
   "outputs": [
    {
     "name": "stdout",
     "output_type": "stream",
     "text": [
      "zsh:1: /Users/bootlabs/Genai-project-folder/FastAPI_GENAI_project/myenv/bin/pip: bad interpreter: /Users/bootlabs/Genai-project-folder/myenv/bin/python3.12: no such file or directory\n",
      "Requirement already satisfied: python-dotenv in /Library/Frameworks/Python.framework/Versions/3.12/lib/python3.12/site-packages (1.0.1)\n"
     ]
    }
   ],
   "source": [
    "!pip install python-dotenv"
   ]
  },
  {
   "cell_type": "code",
   "execution_count": 1,
   "metadata": {},
   "outputs": [
    {
     "data": {
      "text/plain": [
       "True"
      ]
     },
     "execution_count": 1,
     "metadata": {},
     "output_type": "execute_result"
    }
   ],
   "source": [
    "from dotenv import load_dotenv\n",
    "load_dotenv()"
   ]
  },
  {
   "cell_type": "code",
   "execution_count": 18,
   "metadata": {},
   "outputs": [],
   "source": [
    "from langchain_community.llms import Ollama\n",
    "from langchain_community.vectorstores import FAISS\n",
    "from embedding import embedding\n",
    "import os\n",
    "model=Ollama(model=\"llama2\")\n",
    "os.environ[\"HUGGINGFACEHUB_API_TOKEN\"]=os.getenv(\"HUGGINGFACEHUB_API_TOKEN\")\n",
    "new_db = FAISS.load_local(\"/Users/bootlabs/Genai-project-folder/FastAPI_GENAI_project/Model_index\", embedding, allow_dangerous_deserialization=True)"
   ]
  },
  {
   "cell_type": "code",
   "execution_count": 19,
   "metadata": {},
   "outputs": [
    {
     "data": {
      "text/plain": [
       "[Document(id='97b18723-797a-4f22-9fd9-9cdd3234a194', metadata={}, page_content='Prahlad Reddy \\npassionate learner and technical knowledge Enthusiast. \\nMy self-committed to continuous learning and growth, eager to contribute to organisation in achieving\\ngoals and objectives. As of dedicated and Experienced Mechanical Engineer with extensive knowledge\\nof engineering principles and theories. \\nprahladreddy968@gmail.com \\n9392503918 \\nJAHIRABAD, BIDAR, India \\nEDUCATION \\nSSLC \\nMORARJI DESAI RESIDENTIAL SCHOOL-SC\\nHALLIKHEDA(K),BIDAR \\n06/2017 - 06/2018\\n, \\n \\n73.33% \\n12TH (SCIENCE)'),\n",
       " Document(id='f0d7f98a-868e-4de2-ad48-53bd0d173c0b', metadata={}, page_content='(01/2024 - Present)\\n \\nCERTIFICATES \\nINTERNSHIP\\n (12/2023 - 01/2024)\\n \\nTOPIC -LATHE MACHINE. \\nLANGUAGES \\nKANNADA \\nNative or Bilingual Proﬁciency \\nENGLISH \\nFull Professional Proﬁciency \\nHINDI \\nFull Professional Proﬁciency \\nTELUGU \\nNative or Bilingual Proﬁciency \\nINTERESTS \\nEditing \\nTraveling \\nSports \\nSocial Activity'),\n",
       " Document(id='bd102ef9-faf1-4e06-b3d1-a49f0baac9a4', metadata={}, page_content='06/2017 - 06/2018\\n, \\n \\n73.33% \\n12TH (SCIENCE) \\nNEW SRI CHAITHANYA PU COLLEGE, BELLARY \\n05/2019 - 06/2020\\n, \\n \\n76.33% \\nB.Tech \\nDr. AMBEDKAR INSTITUTE OF TECHNOLOGY\\nBENGALURU. \\n09/2020 - Present\\n, \\n \\n7.54 CGPA \\nSKILLS \\nTeam work \\nComputer skills \\nCad/Cam \\nSolid work \\nSolid edge \\nMS World \\nAnsys \\nPERSONAL PROJECTS \\nMini project - Three wheel cycle to ride on incline path.\\n (05/2023 - 10/2023)\\n \\nMajor Project - Human following Robot Using ARDUINO\\n (01/2024 - Present)\\n \\nCERTIFICATES \\nINTERNSHIP')]"
      ]
     },
     "execution_count": 19,
     "metadata": {},
     "output_type": "execute_result"
    }
   ],
   "source": [
    "new_db.similarity_search('education of the pralath reddy')"
   ]
  },
  {
   "cell_type": "code",
   "execution_count": null,
   "metadata": {},
   "outputs": [],
   "source": [
    "new_db.get_rele"
   ]
  },
  {
   "cell_type": "code",
   "execution_count": 33,
   "metadata": {},
   "outputs": [],
   "source": [
    "\n",
    "db= new_db.as_retriever(search_type=\"similarity\",search_kwargs={\"k\":3})"
   ]
  },
  {
   "cell_type": "code",
   "execution_count": 34,
   "metadata": {},
   "outputs": [
    {
     "name": "stderr",
     "output_type": "stream",
     "text": [
      "/var/folders/9q/mmq_4mbn05d6gv5f7trc_q680000gn/T/ipykernel_15078/2050095156.py:1: LangChainDeprecationWarning: The method `BaseRetriever.get_relevant_documents` was deprecated in langchain-core 0.1.46 and will be removed in 1.0. Use :meth:`~invoke` instead.\n",
      "  db. get_relevant_documents(\"education\")\n"
     ]
    },
    {
     "data": {
      "text/plain": [
       "[Document(id='97b18723-797a-4f22-9fd9-9cdd3234a194', metadata={}, page_content='Prahlad Reddy \\npassionate learner and technical knowledge Enthusiast. \\nMy self-committed to continuous learning and growth, eager to contribute to organisation in achieving\\ngoals and objectives. As of dedicated and Experienced Mechanical Engineer with extensive knowledge\\nof engineering principles and theories. \\nprahladreddy968@gmail.com \\n9392503918 \\nJAHIRABAD, BIDAR, India \\nEDUCATION \\nSSLC \\nMORARJI DESAI RESIDENTIAL SCHOOL-SC\\nHALLIKHEDA(K),BIDAR \\n06/2017 - 06/2018\\n, \\n \\n73.33% \\n12TH (SCIENCE)'),\n",
       " Document(id='f0d7f98a-868e-4de2-ad48-53bd0d173c0b', metadata={}, page_content='(01/2024 - Present)\\n \\nCERTIFICATES \\nINTERNSHIP\\n (12/2023 - 01/2024)\\n \\nTOPIC -LATHE MACHINE. \\nLANGUAGES \\nKANNADA \\nNative or Bilingual Proﬁciency \\nENGLISH \\nFull Professional Proﬁciency \\nHINDI \\nFull Professional Proﬁciency \\nTELUGU \\nNative or Bilingual Proﬁciency \\nINTERESTS \\nEditing \\nTraveling \\nSports \\nSocial Activity'),\n",
       " Document(id='bd102ef9-faf1-4e06-b3d1-a49f0baac9a4', metadata={}, page_content='06/2017 - 06/2018\\n, \\n \\n73.33% \\n12TH (SCIENCE) \\nNEW SRI CHAITHANYA PU COLLEGE, BELLARY \\n05/2019 - 06/2020\\n, \\n \\n76.33% \\nB.Tech \\nDr. AMBEDKAR INSTITUTE OF TECHNOLOGY\\nBENGALURU. \\n09/2020 - Present\\n, \\n \\n7.54 CGPA \\nSKILLS \\nTeam work \\nComputer skills \\nCad/Cam \\nSolid work \\nSolid edge \\nMS World \\nAnsys \\nPERSONAL PROJECTS \\nMini project - Three wheel cycle to ride on incline path.\\n (05/2023 - 10/2023)\\n \\nMajor Project - Human following Robot Using ARDUINO\\n (01/2024 - Present)\\n \\nCERTIFICATES \\nINTERNSHIP')]"
      ]
     },
     "execution_count": 34,
     "metadata": {},
     "output_type": "execute_result"
    }
   ],
   "source": [
    "db. get_relevant_documents(\"education\")"
   ]
  },
  {
   "cell_type": "code",
   "execution_count": 12,
   "metadata": {},
   "outputs": [],
   "source": [
    "from langchain.prompts import ChatPromptTemplate"
   ]
  },
  {
   "cell_type": "code",
   "execution_count": 21,
   "metadata": {},
   "outputs": [],
   "source": [
    "prompt=ChatPromptTemplate.from_messages([\n",
    "    (\"system\",\"please answer the question based on the context given\"),\n",
    "    (\"user\",'{input}')\n",
    "\n",
    "])"
   ]
  },
  {
   "cell_type": "code",
   "execution_count": 22,
   "metadata": {},
   "outputs": [],
   "source": [
    "responce=prompt|model|db"
   ]
  },
  {
   "cell_type": "code",
   "execution_count": 23,
   "metadata": {},
   "outputs": [
    {
     "data": {
      "text/plain": [
       "[Document(id='97b18723-797a-4f22-9fd9-9cdd3234a194', metadata={}, page_content='Prahlad Reddy \\npassionate learner and technical knowledge Enthusiast. \\nMy self-committed to continuous learning and growth, eager to contribute to organisation in achieving\\ngoals and objectives. As of dedicated and Experienced Mechanical Engineer with extensive knowledge\\nof engineering principles and theories. \\nprahladreddy968@gmail.com \\n9392503918 \\nJAHIRABAD, BIDAR, India \\nEDUCATION \\nSSLC \\nMORARJI DESAI RESIDENTIAL SCHOOL-SC\\nHALLIKHEDA(K),BIDAR \\n06/2017 - 06/2018\\n, \\n \\n73.33% \\n12TH (SCIENCE)'),\n",
       " Document(id='f0d7f98a-868e-4de2-ad48-53bd0d173c0b', metadata={}, page_content='(01/2024 - Present)\\n \\nCERTIFICATES \\nINTERNSHIP\\n (12/2023 - 01/2024)\\n \\nTOPIC -LATHE MACHINE. \\nLANGUAGES \\nKANNADA \\nNative or Bilingual Proﬁciency \\nENGLISH \\nFull Professional Proﬁciency \\nHINDI \\nFull Professional Proﬁciency \\nTELUGU \\nNative or Bilingual Proﬁciency \\nINTERESTS \\nEditing \\nTraveling \\nSports \\nSocial Activity'),\n",
       " Document(id='bd102ef9-faf1-4e06-b3d1-a49f0baac9a4', metadata={}, page_content='06/2017 - 06/2018\\n, \\n \\n73.33% \\n12TH (SCIENCE) \\nNEW SRI CHAITHANYA PU COLLEGE, BELLARY \\n05/2019 - 06/2020\\n, \\n \\n76.33% \\nB.Tech \\nDr. AMBEDKAR INSTITUTE OF TECHNOLOGY\\nBENGALURU. \\n09/2020 - Present\\n, \\n \\n7.54 CGPA \\nSKILLS \\nTeam work \\nComputer skills \\nCad/Cam \\nSolid work \\nSolid edge \\nMS World \\nAnsys \\nPERSONAL PROJECTS \\nMini project - Three wheel cycle to ride on incline path.\\n (05/2023 - 10/2023)\\n \\nMajor Project - Human following Robot Using ARDUINO\\n (01/2024 - Present)\\n \\nCERTIFICATES \\nINTERNSHIP')]"
      ]
     },
     "execution_count": 23,
     "metadata": {},
     "output_type": "execute_result"
    }
   ],
   "source": [
    "responce.invoke({\"input\":\"edcuation\"})"
   ]
  },
  {
   "cell_type": "code",
   "execution_count": 32,
   "metadata": {},
   "outputs": [
    {
     "name": "stdout",
     "output_type": "stream",
     "text": [
      "1\n",
      "11\n"
     ]
    }
   ],
   "source": [
    "\n",
    "\n",
    "\n",
    "def add():\n",
    "    sub()\n",
    "    print (6+5)\n",
    "    \n",
    "\n",
    "\n",
    "\n",
    "def sub():\n",
    "    print(6-5)\n",
    "\n",
    "add()    "
   ]
  },
  {
   "cell_type": "code",
   "execution_count": null,
   "metadata": {},
   "outputs": [],
   "source": [
    "\n",
    "### Role-Based Prompt Functions\n",
    "def doctor_prompt(query):\n",
    "    \"\"\"Doctor Agent - Provides medical insights and diagnoses.\"\"\"\n",
    "    return llm(f\"You are a highly skilled doctor. Provide a detailed medical explanation for:\\n\\n{query}\")\n",
    "\n",
    "def nurse_prompt(query):\n",
    "    \"\"\"Nurse Agent - Focuses on patient care and medication instructions.\"\"\"\n",
    "    return llm(f\"You are a professional nurse. Explain in simple terms:\\n\\n{query}\")\n",
    "\n",
    "def patient_prompt(query):\n",
    "    \"\"\"Patient Agent - Gives general health advice in an easy-to-understand way.\"\"\"\n",
    "    return llm(f\"Explain this in simple, patient-friendly language:\\n\\n{query}\")\n",
    "\n",
    "### Define Role-Based AI Agents as Tools\n",
    "tools = [\n",
    "    Tool(name=\"Doctor Agent\", func=doctor_prompt, description=\"For detailed medical explanations.\"),\n",
    "    Tool(name=\"Nurse Agent\", func=nurse_prompt, description=\"For nursing and patient care-related queries.\"),\n",
    "    Tool(name=\"Patient Agent\", func=patient_prompt, description=\"For general health advice in simple terms.\"),\n",
    "]\n",
    "\n",
    "### Initialize the Multi-Agent System\n",
    "agent = initialize_agent(\n",
    "    tools, llm, agent=AgentType.ZERO_SHOT_REACT_DESCRIPTION, verbose=True\n",
    ")\n",
    "\n",
    "### **Example: Handling Queries Based on Role**\n",
    "user_role = \"nurse\"  # Role can be 'doctor', 'nurse', or 'patient'\n",
    "query = \"How to handle a patient with high blood pressure?\"\n",
    "\n",
    "if user_role == \"doctor\":\n",
    "    response = doctor_prompt(query)\n",
    "elif user_role == \"nurse\":\n",
    "    response = nurse_prompt(query)\n",
    "elif user_role == \"patient\":\n",
    "    response = patient_prompt(query)\n",
    "else:\n",
    "    response = \"Role not recognized. Please specify 'doctor', 'nurse', or 'patient'.\"\n",
    "\n",
    "print(response)"
   ]
  },
  {
   "cell_type": "code",
   "execution_count": 8,
   "metadata": {},
   "outputs": [
    {
     "name": "stdout",
     "output_type": "stream",
     "text": [
      "10\n"
     ]
    }
   ],
   "source": [
    "a=10\n",
    "def fun():\n",
    "    print(a)\n",
    "fun()    "
   ]
  }
 ],
 "metadata": {
  "kernelspec": {
   "display_name": "Python 3",
   "language": "python",
   "name": "python3"
  },
  "language_info": {
   "codemirror_mode": {
    "name": "ipython",
    "version": 3
   },
   "file_extension": ".py",
   "mimetype": "text/x-python",
   "name": "python",
   "nbconvert_exporter": "python",
   "pygments_lexer": "ipython3",
   "version": "3.12.8"
  }
 },
 "nbformat": 4,
 "nbformat_minor": 2
}
