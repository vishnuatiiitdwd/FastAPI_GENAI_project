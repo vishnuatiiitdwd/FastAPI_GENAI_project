{
 "cells": [
  {
   "cell_type": "markdown",
   "metadata": {},
   "source": [
    "###DATA INJECTION"
   ]
  },
  {
   "cell_type": "code",
   "execution_count": 1,
   "metadata": {},
   "outputs": [
    {
     "name": "stdout",
     "output_type": "stream",
     "text": [
      "hello\n"
     ]
    },
    {
     "name": "stderr",
     "output_type": "stream",
     "text": [
      "/Users/bootlabs/ocr/myenv/lib/python3.12/site-packages/whisper/transcribe.py:126: UserWarning: FP16 is not supported on CPU; using FP32 instead\n",
      "  warnings.warn(\"FP16 is not supported on CPU; using FP32 instead\")\n"
     ]
    }
   ],
   "source": [
    "# import matplotlib.pyplot as plt\n",
    "from langchain_community.document_loaders import PyPDFLoader\n",
    "import easyocr\n",
    "import whisper\n",
    "import re\n",
    "a=easyocr.Reader(['en'])\n",
    "paths=[\"product_g.jpg\",\"python.pdf\",\"scannerimage.pdf\",\"song-english-edm-296526.mp3\"]\n",
    "for path in paths:\n",
    "    image_matching=re.match(r'[a-zA-Z0-9\\-_@]+\\.(img|png|jpg|jpeg)$',path)\n",
    "    audio_matching=re.match(r'[a-zA-Z0-9\\-_@]+\\.mp3',path)\n",
    "    pdf_matching=re.match(r'[a-zA-z0-9\\-_@]+\\.pdf',path)\n",
    "    if image_matching:\n",
    "        print('hello')\n",
    "        b=a.readtext(path) \n",
    "        text=[ textscarping[1] for textscarping in b]\n",
    "        text2=\" \".join(text)\n",
    "    elif pdf_matching:\n",
    "        try:\n",
    "            extract_text=PyPDFLoader(path)\n",
    "            extraction=extract_text.load()\n",
    "            word2=[]\n",
    "            for word in extraction:\n",
    "                word2.append(word.page_content)\n",
    "        except:\n",
    "            b=a.readtext(path) \n",
    "            scanned_documentation=[ textscarping[1] for textscarping in b]\n",
    "            scanned_documentation=\" \".join(scanned_documentation)\n",
    "    elif audio_matching:\n",
    "        model = whisper.load_model(\"medium\") \n",
    "        result = model.transcribe(path)\n",
    "\n",
    "\n",
    "\n",
    "\n",
    "\n"
   ]
  },
  {
   "cell_type": "code",
   "execution_count": 2,
   "metadata": {},
   "outputs": [
    {
     "data": {
      "text/plain": [
       "' We are now at the We are now at the We are now at the We are now at We are now at We are now at We are now at'"
      ]
     },
     "execution_count": 2,
     "metadata": {},
     "output_type": "execute_result"
    }
   ],
   "source": [
    "result[\"text\"]"
   ]
  },
  {
   "cell_type": "markdown",
   "metadata": {},
   "source": [
    "###Chunking"
   ]
  },
  {
   "cell_type": "code",
   "execution_count": 3,
   "metadata": {},
   "outputs": [
    {
     "data": {
      "text/plain": [
       "['proess\\n<br>\\no do n\\n<br>\\nProeses\\n<br>\\nAsste MENT -03\\n<br>\\nohat\\n<br>\\nn\\n<br>\\nD[ acbog\\n<br>\\nO\\nBCERVATIONS\\n<br>\\nESTIDNN ALREC\\n<br>\\npesiod\\n<br>\\neenal obsenalenl of a woker\\n<br>\\n-\\n<br>\\n7\\n<br>\\n-tark analy\\n<br>\\nevgonere pokem\\n<br>\\nlasies to diglba allatcond\\n<br>\\nasthe\\n<br>\\nAND LNTE RVTEWs\\n<br>\\nesbonnaley\\n<br>\\ntme bal\\n<br>',\n",
       " '(3) VIDED TAPLNe AND pHo ToeP n pHy\\n<br>\\nVidstapig Galcla\\n<br>\\nCon\\n<br>\\nvidotaping buknly has Aimplip\\n<br>\\nanalyas Gonidonay\\n<br>\\nDRAWINe_AND SKETCHINy -\\n<br>\\na naal keteh\\n<br>\\nergenmic\\n<br>\\nnatadal\\n<br>\\nPAGE NO.\\n<br>\\nDATE:\\n<br>\\n(6 UNDe RSTANDI Ne\\n<br>\\nAeTNY!\\n<br>\\nprotid nainly\\n<br>\\nLwok\\n<br>\\nldow\\n<br>\\nwaka Cay\\n<br>\\nOF\\n<br>',\n",
       " 'ut poom -c lathy that add\\np\\n<br>\\nwnkiny\\n<br>\\nath\\n<br>\\ntd how\\n<br>\\nhamal wk\\n<br>\\nGngle\\nlt. yoa shold alio\\n<br>\\nCerbrdo\\n<br>',\n",
       " 'CTANDLN\\n<br>\\nThe Liit\\n<br>\\nfr\\na Mondag\\n<br>\\na\\n<br>\\nthe.\\n<br>\\nthat te\\n<br>\\nthe\\n<br>\\nase a a\\n<br>\\nWIRKSpACE\\n<br>\\nthe\\n<br>\\nclass A -\\n<br>\\nwhich\\n<br>\\ntines Ma\\n<br>\\nelbous\\n<br>\\nmest pvopriat\\n<br>\\nMateialy\\n<br>\\nCan\\n<br>\\nlan\\n<br>\\nQwes\\n<br>\\noydnay\\n<br>\\nJAV PRAKASH\\n<br>\\nPAGE NO.:\\n<br>\\nDATE:\\n<br>\\nCavelope\\n<br>\\nCoen a\\n<br>\\nmerted.\\n<br>\\nnethed\\n<br>\\nCombustble\\n<br>\\ntheso\\n<br>',\n",
       " 'leshlo\\n<br>\\nClass\\nes\\n<br>\\nanl\\n<br>\\nclass\\n<br>\\nCormestial\\n<br>\\nyammabe\\n<br>\\ndnd\\n<br>\\ntires\\n<br>\\nFlammab le\\n<br>\\nas-Metal\\n<br>\\nubbes, Sorme plash\\n<br>\\narton\\n<br>\\ncamaged wimng)\\n<br>\\nDuer Loacded\\n<br>\\nForo Benl\\n<br>\\nLaleda)\\n<br>\\nfaulhy. Cguipmn\\n<br>\\nBueh\\n<br>\\n6\\n<br>\\nBoifch halds\\n<br>\\nJAY PRAKASH\\n<br>\\nPAGENO.\\n<br>\\nDATE\\n<br>\\nplashsond\\n<br>\\nklammall\\n<br>\\nallhohellivth\\n<br>\\n)\\n<br>\\nEeleetia/\\n<br>',\n",
       " 'class F\\n<br>\\n3. Do\\n<br>\\nCnkiy\\n<br>\\n4.Caskn\\n<br>\\nergishlis an\\n<br>\\ndie onids\\n<br>\\nbype\\n<br>\\nH.O.D.\\n<br>\\n(Inchargeofthe Batch)\\n<br>\\nJAV PRAKASH\\n<br>\\nPAGE NO,\\n<br>\\nDATE\\n<br>\\nachue\\n<br>',\n",
       " '1. WA TER\\n<br>\\nenpellig\\n<br>\\na.FOAM-1YPE\\n<br>\\nGrstad\\n<br>\\nBtlplaly\\n<br>\\nA\\n<br>\\nFIRE EXTIeutSHEr\\n<br>\\nFIRIE\\n<br>\\nmtoine\\n<br>',\n",
       " 'ite\\n<br>\\nent\\n<br>\\nloga\\n<br>\\n(AsaSe o thi,hand ftsdlp\\nmas\\n<br>\\n-the\\n<br>\\nDmowth ih all.\\n<br>\\nDATE\\n<br>\\na\\n<br>\\nQnelobel\\n<br>',\n",
       " 'Oxaminat\\n<br>\\n3\\n<br>\\nDelutiog\\n<br>\\npriteaton\\n<br>\\nKytas,\\n<br>\\n1.Tenal enpeni\\non\\n<br>\\nFaleetnial\\n<br>\\ndateslion\\n<br>\\n1\\n<br>\\nCovkiy eloctial\\n<br>\\napplianas\\n<br>\\noflhei\\n<br>\\nJAY PRAKASH\\n<br>\\n2.Padi tig ionzatbo Senlr\\n<br>\\nPAGE NO.\\n:\\n<br>\\nDATE:\\n<br>\\nyasios\\n<br>\\na as\\n<br>\\nConen.\\n<br>\\nand\\n<br>\\nnelude distbid\\n<br>\\npofoble tol&\\n<br>\\nwhieh\\n<br>\\nSoslos Such a\\n<br>',\n",
       " 'Otasly Delaleo\\n<br>\\nOxaminaon\\n<br>\\npovteton\\n<br>\\n4.\\n<br>\\nand\\n<br>\\nUV.\\n<br>\\nFeleetnial\\n<br>\\ndelelin\\n<br>\\n1snal penion dileelo\\n<br>\\ningoud\\n<br>\\nConkay\\n<br>\\nboim ng ppliany\\n<br>\\nothel\\n<br>\\nJAY PAAKASH\\n<br>\\nPAGE NO.\\n<br>\\nDATE\\n<br>\\nVaios\\n<br>\\nfRar5) aL as\\n<br>\\nau asfulocah\\n<br>\\ndasthet\\n<br>\\neleeticalase heludo\\n<br>\\nand\\n<br>\\neloctica Ponleiey\\n<br>\\n,along\\n<br>\\nand\\n<br>\\ndistoa\\n<br>\\npotable trols\\n<br>\\n&uch a\\n<br>']"
      ]
     },
     "execution_count": 3,
     "metadata": {},
     "output_type": "execute_result"
    }
   ],
   "source": [
    "word2"
   ]
  },
  {
   "cell_type": "code",
   "execution_count": 3,
   "metadata": {},
   "outputs": [],
   "source": [
    "word3=\" \".join(word2)"
   ]
  },
  {
   "cell_type": "code",
   "execution_count": 4,
   "metadata": {},
   "outputs": [
    {
     "data": {
      "text/plain": [
       "'proess\\n<br>\\no do n\\n<br>\\nProeses\\n<br>\\nAsste MENT -03\\n<br>\\nohat\\n<br>\\nn\\n<br>\\nD[ acbog\\n<br>\\nO\\nBCERVATIONS\\n<br>\\nESTIDNN ALREC\\n<br>\\npesiod\\n<br>\\neenal obsenalenl of a woker\\n<br>\\n-\\n<br>\\n7\\n<br>\\n-tark analy\\n<br>\\nevgonere pokem\\n<br>\\nlasies to diglba allatcond\\n<br>\\nasthe\\n<br>\\nAND LNTE RVTEWs\\n<br>\\nesbonnaley\\n<br>\\ntme bal\\n<br> (3) VIDED TAPLNe AND pHo ToeP n pHy\\n<br>\\nVidstapig Galcla\\n<br>\\nCon\\n<br>\\nvidotaping buknly has Aimplip\\n<br>\\nanalyas Gonidonay\\n<br>\\nDRAWINe_AND SKETCHINy -\\n<br>\\na naal keteh\\n<br>\\nergenmic\\n<br>\\nnatadal\\n<br>\\nPAGE NO.\\n<br>\\nDATE:\\n<br>\\n(6 UNDe RSTANDI Ne\\n<br>\\nAeTNY!\\n<br>\\nprotid nainly\\n<br>\\nLwok\\n<br>\\nldow\\n<br>\\nwaka Cay\\n<br>\\nOF\\n<br> ut poom -c lathy that add\\np\\n<br>\\nwnkiny\\n<br>\\nath\\n<br>\\ntd how\\n<br>\\nhamal wk\\n<br>\\nGngle\\nlt. yoa shold alio\\n<br>\\nCerbrdo\\n<br> CTANDLN\\n<br>\\nThe Liit\\n<br>\\nfr\\na Mondag\\n<br>\\na\\n<br>\\nthe.\\n<br>\\nthat te\\n<br>\\nthe\\n<br>\\nase a a\\n<br>\\nWIRKSpACE\\n<br>\\nthe\\n<br>\\nclass A -\\n<br>\\nwhich\\n<br>\\ntines Ma\\n<br>\\nelbous\\n<br>\\nmest pvopriat\\n<br>\\nMateialy\\n<br>\\nCan\\n<br>\\nlan\\n<br>\\nQwes\\n<br>\\noydnay\\n<br>\\nJAV PRAKASH\\n<br>\\nPAGE NO.:\\n<br>\\nDATE:\\n<br>\\nCavelope\\n<br>\\nCoen a\\n<br>\\nmerted.\\n<br>\\nnethed\\n<br>\\nCombustble\\n<br>\\ntheso\\n<br> leshlo\\n<br>\\nClass\\nes\\n<br>\\nanl\\n<br>\\nclass\\n<br>\\nCormestial\\n<br>\\nyammabe\\n<br>\\ndnd\\n<br>\\ntires\\n<br>\\nFlammab le\\n<br>\\nas-Metal\\n<br>\\nubbes, Sorme plash\\n<br>\\narton\\n<br>\\ncamaged wimng)\\n<br>\\nDuer Loacded\\n<br>\\nForo Benl\\n<br>\\nLaleda)\\n<br>\\nfaulhy. Cguipmn\\n<br>\\nBueh\\n<br>\\n6\\n<br>\\nBoifch halds\\n<br>\\nJAY PRAKASH\\n<br>\\nPAGENO.\\n<br>\\nDATE\\n<br>\\nplashsond\\n<br>\\nklammall\\n<br>\\nallhohellivth\\n<br>\\n)\\n<br>\\nEeleetia/\\n<br> class F\\n<br>\\n3. Do\\n<br>\\nCnkiy\\n<br>\\n4.Caskn\\n<br>\\nergishlis an\\n<br>\\ndie onids\\n<br>\\nbype\\n<br>\\nH.O.D.\\n<br>\\n(Inchargeofthe Batch)\\n<br>\\nJAV PRAKASH\\n<br>\\nPAGE NO,\\n<br>\\nDATE\\n<br>\\nachue\\n<br> 1. WA TER\\n<br>\\nenpellig\\n<br>\\na.FOAM-1YPE\\n<br>\\nGrstad\\n<br>\\nBtlplaly\\n<br>\\nA\\n<br>\\nFIRE EXTIeutSHEr\\n<br>\\nFIRIE\\n<br>\\nmtoine\\n<br> ite\\n<br>\\nent\\n<br>\\nloga\\n<br>\\n(AsaSe o thi,hand ftsdlp\\nmas\\n<br>\\n-the\\n<br>\\nDmowth ih all.\\n<br>\\nDATE\\n<br>\\na\\n<br>\\nQnelobel\\n<br> Oxaminat\\n<br>\\n3\\n<br>\\nDelutiog\\n<br>\\npriteaton\\n<br>\\nKytas,\\n<br>\\n1.Tenal enpeni\\non\\n<br>\\nFaleetnial\\n<br>\\ndateslion\\n<br>\\n1\\n<br>\\nCovkiy eloctial\\n<br>\\napplianas\\n<br>\\noflhei\\n<br>\\nJAY PRAKASH\\n<br>\\n2.Padi tig ionzatbo Senlr\\n<br>\\nPAGE NO.\\n:\\n<br>\\nDATE:\\n<br>\\nyasios\\n<br>\\na as\\n<br>\\nConen.\\n<br>\\nand\\n<br>\\nnelude distbid\\n<br>\\npofoble tol&\\n<br>\\nwhieh\\n<br>\\nSoslos Such a\\n<br> Otasly Delaleo\\n<br>\\nOxaminaon\\n<br>\\npovteton\\n<br>\\n4.\\n<br>\\nand\\n<br>\\nUV.\\n<br>\\nFeleetnial\\n<br>\\ndelelin\\n<br>\\n1snal penion dileelo\\n<br>\\ningoud\\n<br>\\nConkay\\n<br>\\nboim ng ppliany\\n<br>\\nothel\\n<br>\\nJAY PAAKASH\\n<br>\\nPAGE NO.\\n<br>\\nDATE\\n<br>\\nVaios\\n<br>\\nfRar5) aL as\\n<br>\\nau asfulocah\\n<br>\\ndasthet\\n<br>\\neleeticalase heludo\\n<br>\\nand\\n<br>\\neloctica Ponleiey\\n<br>\\n,along\\n<br>\\nand\\n<br>\\ndistoa\\n<br>\\npotable trols\\n<br>\\n&uch a\\n<br>'"
      ]
     },
     "execution_count": 4,
     "metadata": {},
     "output_type": "execute_result"
    }
   ],
   "source": [
    "word3"
   ]
  },
  {
   "cell_type": "code",
   "execution_count": 4,
   "metadata": {},
   "outputs": [
    {
     "name": "stderr",
     "output_type": "stream",
     "text": [
      "[nltk_data] Downloading package stopwords to\n",
      "[nltk_data]     /Users/bootlabs/nltk_data...\n",
      "[nltk_data]   Unzipping corpora/stopwords.zip.\n"
     ]
    },
    {
     "data": {
      "text/plain": [
       "True"
      ]
     },
     "execution_count": 4,
     "metadata": {},
     "output_type": "execute_result"
    }
   ],
   "source": [
    "import nltk \n",
    "from nltk.corpus import stopwords\n",
    "nltk.download(\"stopwords\")"
   ]
  },
  {
   "cell_type": "code",
   "execution_count": 15,
   "metadata": {},
   "outputs": [
    {
     "name": "stderr",
     "output_type": "stream",
     "text": [
      "[nltk_data] Downloading package punkt_tab to\n",
      "[nltk_data]     /Users/bootlabs/nltk_data...\n",
      "[nltk_data]   Unzipping tokenizers/punkt_tab.zip.\n"
     ]
    },
    {
     "data": {
      "text/plain": [
       "True"
      ]
     },
     "execution_count": 15,
     "metadata": {},
     "output_type": "execute_result"
    }
   ],
   "source": [
    "nltk.download('punkt_tab')"
   ]
  },
  {
   "cell_type": "code",
   "execution_count": 6,
   "metadata": {},
   "outputs": [],
   "source": [
    "import nltk \n",
    "from nltk.corpus import stopwords"
   ]
  },
  {
   "cell_type": "code",
   "execution_count": 7,
   "metadata": {},
   "outputs": [],
   "source": [
    "from nltk.tokenize import word_tokenize\n",
    "\n",
    "tokens = word_tokenize(word3)"
   ]
  },
  {
   "cell_type": "code",
   "execution_count": 8,
   "metadata": {},
   "outputs": [],
   "source": [
    "stop_words=set(stopwords.words(\"english\"))\n",
    "\n",
    "\n",
    "data3 = [word for word in tokens if word.lower() not in stop_words]"
   ]
  },
  {
   "cell_type": "code",
   "execution_count": 9,
   "metadata": {},
   "outputs": [],
   "source": [
    "custom_words={\"<\",\">\",\"br\",\"n\",\"/\",\"[\",\"-\",\"&\",\"7\"}"
   ]
  },
  {
   "cell_type": "code",
   "execution_count": 10,
   "metadata": {},
   "outputs": [],
   "source": [
    "stop_words.update(custom_words)"
   ]
  },
  {
   "cell_type": "code",
   "execution_count": 11,
   "metadata": {},
   "outputs": [],
   "source": [
    "data3 = [word for word in tokens if word.lower() not in stop_words]"
   ]
  },
  {
   "cell_type": "code",
   "execution_count": 12,
   "metadata": {},
   "outputs": [
    {
     "data": {
      "text/plain": [
       "['proess',\n",
       " 'Proeses',\n",
       " 'Asste',\n",
       " 'MENT',\n",
       " '-03',\n",
       " 'ohat',\n",
       " 'acbog',\n",
       " 'BCERVATIONS',\n",
       " 'ESTIDNN',\n",
       " 'ALREC',\n",
       " 'pesiod',\n",
       " 'eenal',\n",
       " 'obsenalenl',\n",
       " 'woker',\n",
       " '-tark',\n",
       " 'analy',\n",
       " 'evgonere',\n",
       " 'pokem',\n",
       " 'lasies',\n",
       " 'diglba',\n",
       " 'allatcond',\n",
       " 'asthe',\n",
       " 'LNTE',\n",
       " 'RVTEWs',\n",
       " 'esbonnaley',\n",
       " 'tme',\n",
       " 'bal',\n",
       " '(',\n",
       " '3',\n",
       " ')',\n",
       " 'VIDED',\n",
       " 'TAPLNe',\n",
       " 'pHo',\n",
       " 'ToeP',\n",
       " 'pHy',\n",
       " 'Vidstapig',\n",
       " 'Galcla',\n",
       " 'Con',\n",
       " 'vidotaping',\n",
       " 'buknly',\n",
       " 'Aimplip',\n",
       " 'analyas',\n",
       " 'Gonidonay',\n",
       " 'DRAWINe_AND',\n",
       " 'SKETCHINy',\n",
       " 'naal',\n",
       " 'keteh',\n",
       " 'ergenmic',\n",
       " 'natadal',\n",
       " 'PAGE',\n",
       " '.',\n",
       " 'DATE',\n",
       " ':',\n",
       " '(',\n",
       " '6',\n",
       " 'UNDe',\n",
       " 'RSTANDI',\n",
       " 'Ne',\n",
       " 'AeTNY',\n",
       " '!',\n",
       " 'protid',\n",
       " 'nainly',\n",
       " 'Lwok',\n",
       " 'ldow',\n",
       " 'waka',\n",
       " 'Cay',\n",
       " 'ut',\n",
       " 'poom',\n",
       " '-c',\n",
       " 'lathy',\n",
       " 'add',\n",
       " 'p',\n",
       " 'wnkiny',\n",
       " 'ath',\n",
       " 'td',\n",
       " 'hamal',\n",
       " 'wk',\n",
       " 'Gngle',\n",
       " 'lt.',\n",
       " 'yoa',\n",
       " 'shold',\n",
       " 'alio',\n",
       " 'Cerbrdo',\n",
       " 'CTANDLN',\n",
       " 'Liit',\n",
       " 'fr',\n",
       " 'Mondag',\n",
       " '.',\n",
       " 'te',\n",
       " 'ase',\n",
       " 'WIRKSpACE',\n",
       " 'class',\n",
       " 'tines',\n",
       " 'elbous',\n",
       " 'mest',\n",
       " 'pvopriat',\n",
       " 'Mateialy',\n",
       " 'lan',\n",
       " 'Qwes',\n",
       " 'oydnay',\n",
       " 'JAV',\n",
       " 'PRAKASH',\n",
       " 'PAGE',\n",
       " '.',\n",
       " ':',\n",
       " 'DATE',\n",
       " ':',\n",
       " 'Cavelope',\n",
       " 'Coen',\n",
       " 'merted',\n",
       " '.',\n",
       " 'nethed',\n",
       " 'Combustble',\n",
       " 'theso',\n",
       " 'leshlo',\n",
       " 'Class',\n",
       " 'es',\n",
       " 'anl',\n",
       " 'class',\n",
       " 'Cormestial',\n",
       " 'yammabe',\n",
       " 'dnd',\n",
       " 'tires',\n",
       " 'Flammab',\n",
       " 'le',\n",
       " 'as-Metal',\n",
       " 'ubbes',\n",
       " ',',\n",
       " 'Sorme',\n",
       " 'plash',\n",
       " 'arton',\n",
       " 'camaged',\n",
       " 'wimng',\n",
       " ')',\n",
       " 'Duer',\n",
       " 'Loacded',\n",
       " 'Foro',\n",
       " 'Benl',\n",
       " 'Laleda',\n",
       " ')',\n",
       " 'faulhy',\n",
       " '.',\n",
       " 'Cguipmn',\n",
       " 'Bueh',\n",
       " '6',\n",
       " 'Boifch',\n",
       " 'halds',\n",
       " 'JAY',\n",
       " 'PRAKASH',\n",
       " 'PAGENO',\n",
       " '.',\n",
       " 'DATE',\n",
       " 'plashsond',\n",
       " 'klammall',\n",
       " 'allhohellivth',\n",
       " ')',\n",
       " 'Eeleetia/',\n",
       " 'class',\n",
       " 'F',\n",
       " '3',\n",
       " '.',\n",
       " 'Cnkiy',\n",
       " '4.Caskn',\n",
       " 'ergishlis',\n",
       " 'die',\n",
       " 'onids',\n",
       " 'bype',\n",
       " 'H.O.D',\n",
       " '.',\n",
       " '(',\n",
       " 'Inchargeofthe',\n",
       " 'Batch',\n",
       " ')',\n",
       " 'JAV',\n",
       " 'PRAKASH',\n",
       " 'PAGE',\n",
       " ',',\n",
       " 'DATE',\n",
       " 'achue',\n",
       " '1',\n",
       " '.',\n",
       " 'WA',\n",
       " 'TER',\n",
       " 'enpellig',\n",
       " 'a.FOAM-1YPE',\n",
       " 'Grstad',\n",
       " 'Btlplaly',\n",
       " 'FIRE',\n",
       " 'EXTIeutSHEr',\n",
       " 'FIRIE',\n",
       " 'mtoine',\n",
       " 'ite',\n",
       " 'ent',\n",
       " 'loga',\n",
       " '(',\n",
       " 'AsaSe',\n",
       " 'thi',\n",
       " ',',\n",
       " 'hand',\n",
       " 'ftsdlp',\n",
       " 'mas',\n",
       " '-the',\n",
       " 'Dmowth',\n",
       " 'ih',\n",
       " '.',\n",
       " 'DATE',\n",
       " 'Qnelobel',\n",
       " 'Oxaminat',\n",
       " '3',\n",
       " 'Delutiog',\n",
       " 'priteaton',\n",
       " 'Kytas',\n",
       " ',',\n",
       " '1.Tenal',\n",
       " 'enpeni',\n",
       " 'Faleetnial',\n",
       " 'dateslion',\n",
       " '1',\n",
       " 'Covkiy',\n",
       " 'eloctial',\n",
       " 'applianas',\n",
       " 'oflhei',\n",
       " 'JAY',\n",
       " 'PRAKASH',\n",
       " '2.Padi',\n",
       " 'tig',\n",
       " 'ionzatbo',\n",
       " 'Senlr',\n",
       " 'PAGE',\n",
       " '.',\n",
       " ':',\n",
       " 'DATE',\n",
       " ':',\n",
       " 'yasios',\n",
       " 'Conen',\n",
       " '.',\n",
       " 'nelude',\n",
       " 'distbid',\n",
       " 'pofoble',\n",
       " 'tol',\n",
       " 'whieh',\n",
       " 'Soslos',\n",
       " 'Otasly',\n",
       " 'Delaleo',\n",
       " 'Oxaminaon',\n",
       " 'povteton',\n",
       " '4',\n",
       " '.',\n",
       " 'UV',\n",
       " '.',\n",
       " 'Feleetnial',\n",
       " 'delelin',\n",
       " '1snal',\n",
       " 'penion',\n",
       " 'dileelo',\n",
       " 'ingoud',\n",
       " 'Conkay',\n",
       " 'boim',\n",
       " 'ng',\n",
       " 'ppliany',\n",
       " 'othel',\n",
       " 'JAY',\n",
       " 'PAAKASH',\n",
       " 'PAGE',\n",
       " '.',\n",
       " 'DATE',\n",
       " 'Vaios',\n",
       " 'fRar5',\n",
       " ')',\n",
       " 'aL',\n",
       " 'au',\n",
       " 'asfulocah',\n",
       " 'dasthet',\n",
       " 'eleeticalase',\n",
       " 'heludo',\n",
       " 'eloctica',\n",
       " 'Ponleiey',\n",
       " ',',\n",
       " 'along',\n",
       " 'distoa',\n",
       " 'potable',\n",
       " 'trols',\n",
       " 'uch']"
      ]
     },
     "execution_count": 12,
     "metadata": {},
     "output_type": "execute_result"
    }
   ],
   "source": [
    "data3"
   ]
  },
  {
   "cell_type": "code",
   "execution_count": 13,
   "metadata": {},
   "outputs": [],
   "source": [
    "data3=\" \".join(data3)"
   ]
  },
  {
   "cell_type": "code",
   "execution_count": 14,
   "metadata": {},
   "outputs": [
    {
     "data": {
      "text/plain": [
       "'proess Proeses Asste MENT -03 ohat acbog BCERVATIONS ESTIDNN ALREC pesiod eenal obsenalenl woker -tark analy evgonere pokem lasies diglba allatcond asthe LNTE RVTEWs esbonnaley tme bal ( 3 ) VIDED TAPLNe pHo ToeP pHy Vidstapig Galcla Con vidotaping buknly Aimplip analyas Gonidonay DRAWINe_AND SKETCHINy naal keteh ergenmic natadal PAGE . DATE : ( 6 UNDe RSTANDI Ne AeTNY ! protid nainly Lwok ldow waka Cay ut poom -c lathy add p wnkiny ath td hamal wk Gngle lt. yoa shold alio Cerbrdo CTANDLN Liit fr Mondag . te ase WIRKSpACE class tines elbous mest pvopriat Mateialy lan Qwes oydnay JAV PRAKASH PAGE . : DATE : Cavelope Coen merted . nethed Combustble theso leshlo Class es anl class Cormestial yammabe dnd tires Flammab le as-Metal ubbes , Sorme plash arton camaged wimng ) Duer Loacded Foro Benl Laleda ) faulhy . Cguipmn Bueh 6 Boifch halds JAY PRAKASH PAGENO . DATE plashsond klammall allhohellivth ) Eeleetia/ class F 3 . Cnkiy 4.Caskn ergishlis die onids bype H.O.D . ( Inchargeofthe Batch ) JAV PRAKASH PAGE , DATE achue 1 . WA TER enpellig a.FOAM-1YPE Grstad Btlplaly FIRE EXTIeutSHEr FIRIE mtoine ite ent loga ( AsaSe thi , hand ftsdlp mas -the Dmowth ih . DATE Qnelobel Oxaminat 3 Delutiog priteaton Kytas , 1.Tenal enpeni Faleetnial dateslion 1 Covkiy eloctial applianas oflhei JAY PRAKASH 2.Padi tig ionzatbo Senlr PAGE . : DATE : yasios Conen . nelude distbid pofoble tol whieh Soslos Otasly Delaleo Oxaminaon povteton 4 . UV . Feleetnial delelin 1snal penion dileelo ingoud Conkay boim ng ppliany othel JAY PAAKASH PAGE . DATE Vaios fRar5 ) aL au asfulocah dasthet eleeticalase heludo eloctica Ponleiey , along distoa potable trols uch'"
      ]
     },
     "execution_count": 14,
     "metadata": {},
     "output_type": "execute_result"
    }
   ],
   "source": [
    "data3"
   ]
  },
  {
   "cell_type": "code",
   "execution_count": 16,
   "metadata": {},
   "outputs": [
    {
     "name": "stderr",
     "output_type": "stream",
     "text": [
      "/Users/bootlabs/ocr/myenv/lib/python3.12/site-packages/spacy/pipeline/lemmatizer.py:211: UserWarning: [W108] The rule-based lemmatizer did not find POS annotation for one or more tokens. Check that your pipeline includes components that assign token.pos, typically 'tagger'+'attribute_ruler' or 'morphologizer'.\n",
      "  warnings.warn(Warnings.W108)\n",
      "Created a chunk of size 255, which is longer than the specified 100\n",
      "Created a chunk of size 140, which is longer than the specified 100\n",
      "Created a chunk of size 167, which is longer than the specified 100\n"
     ]
    }
   ],
   "source": [
    "from langchain.text_splitter import SpacyTextSplitter\n",
    "splitter=SpacyTextSplitter(chunk_size=100,chunk_overlap=100)\n",
    "chunks=splitter.split_text(data3)"
   ]
  },
  {
   "cell_type": "code",
   "execution_count": 24,
   "metadata": {},
   "outputs": [
    {
     "data": {
      "text/plain": [
       "['proess Proeses Asste MENT -03 ohat acbog BCERVATIONS ESTIDNN ALREC pesiod eenal obsenalenl woker -tark analy evgonere pokem lasies diglba allatcond asthe LNTE RVTEWs esbonnaley tme bal ( 3 ) VIDED TAPLNe pHo ToeP pHy Vidstapig Galcla Con vidotaping buknly',\n",
       " 'Aimplip analyas Gonidonay DRAWINe_AND SKETCHINy naal keteh ergenmic natadal PAGE .',\n",
       " 'DATE : ( 6 UNDe RSTANDI Ne AeTNY !',\n",
       " 'protid nainly Lwok ldow waka Cay ut poom -c lathy add p wnkiny ath td hamal',\n",
       " 'wk Gngle lt. yoa shold alio Cerbrdo CTANDLN Liit fr Mondag .',\n",
       " 'te ase WIRKSpACE class tines elbous mest pvopriat Mateialy lan Qwes oydnay JAV PRAKASH PAGE .\\n\\n:',\n",
       " ':\\n\\nDATE : Cavelope Coen merted .',\n",
       " 'nethed Combustble theso leshlo Class es anl class Cormestial yammabe dnd tires Flammab le as-Metal ubbes , Sorme plash arton camaged wimng )',\n",
       " 'Duer Loacded Foro Benl Laleda ) faulhy .\\n\\nCguipmn Bueh 6 Boifch halds JAY PRAKASH PAGENO .',\n",
       " 'DATE plashsond klammall allhohellivth ) Eeleetia/ class F 3 .',\n",
       " 'Cnkiy 4.Caskn ergishlis die onids bype H.O.D .',\n",
       " '( Inchargeofthe Batch ) JAV PRAKASH PAGE , DATE achue 1 .',\n",
       " 'WA TER enpellig a.FOAM-1YPE Grstad Btlplaly FIRE EXTIeutSHEr FIRIE mtoine ite ent loga',\n",
       " '( AsaSe thi , hand ftsdlp mas -the Dmowth ih .',\n",
       " 'DATE Qnelobel Oxaminat 3 Delutiog priteaton Kytas , 1.Tenal enpeni Faleetnial dateslion 1 Covkiy eloctial applianas oflhei JAY PRAKASH 2.Padi tig ionzatbo Senlr PAGE .',\n",
       " ':\\n\\nDATE : yasios Conen .\\n\\nnelude distbid pofoble tol whieh Soslos Otasly',\n",
       " 'nelude distbid pofoble tol whieh Soslos Otasly\\n\\nDelaleo Oxaminaon povteton 4 .\\n\\nUV .',\n",
       " 'Delaleo Oxaminaon povteton 4 .\\n\\nUV .\\n\\nFeleetnial delelin 1snal penion dileelo ingoud',\n",
       " 'Feleetnial delelin 1snal penion dileelo ingoud\\n\\nConkay boim ng ppliany othel JAY PAAKASH PAGE .',\n",
       " 'Conkay boim ng ppliany othel JAY PAAKASH PAGE .\\n\\nDATE Vaios fRar5 )',\n",
       " 'aL au asfulocah dasthet eleeticalase heludo eloctica Ponleiey , along distoa potable trols uch']"
      ]
     },
     "execution_count": 24,
     "metadata": {},
     "output_type": "execute_result"
    }
   ],
   "source": [
    "chunks"
   ]
  },
  {
   "cell_type": "code",
   "execution_count": 21,
   "metadata": {},
   "outputs": [],
   "source": [
    "from langchain_core.documents import Document\n",
    "documents = [Document(page_content=text) for text in chunks]"
   ]
  },
  {
   "cell_type": "code",
   "execution_count": 23,
   "metadata": {},
   "outputs": [
    {
     "name": "stderr",
     "output_type": "stream",
     "text": [
      "/Users/bootlabs/ocr/myenv/lib/python3.12/site-packages/huggingface_hub/utils/_deprecation.py:131: FutureWarning: 'post' (from 'huggingface_hub.inference._client') is deprecated and will be removed from version '0.31.0'. Making direct POST requests to the inference server is not supported anymore. Please use task methods instead (e.g. `InferenceClient.chat_completion`). If your use case is not supported, please open an issue in https://github.com/huggingface/huggingface_hub.\n",
      "  warnings.warn(warning_message, FutureWarning)\n"
     ]
    }
   ],
   "source": [
    "from langchain_community.embeddings import HuggingFaceHubEmbeddings\n",
    "\n",
    "from langchain.vectorstores import Chroma\n",
    "from dotenv import load_dotenv\n",
    "import os\n",
    "load_dotenv()\n",
    "embedding=HuggingFaceHubEmbeddings(model=\"sentence-transformers/all-MiniLM-L6-v2\",huggingfacehub_api_token=os.getenv(\"HUGGINGFACEHUB_API_TOKEN\"))\n",
    "db=Chroma.from_documents(documents,embedding)\n",
    "\n"
   ]
  },
  {
   "cell_type": "code",
   "execution_count": 25,
   "metadata": {},
   "outputs": [
    {
     "name": "stderr",
     "output_type": "stream",
     "text": [
      "/Users/bootlabs/ocr/myenv/lib/python3.12/site-packages/huggingface_hub/utils/_deprecation.py:131: FutureWarning: 'post' (from 'huggingface_hub.inference._client') is deprecated and will be removed from version '0.31.0'. Making direct POST requests to the inference server is not supported anymore. Please use task methods instead (e.g. `InferenceClient.chat_completion`). If your use case is not supported, please open an issue in https://github.com/huggingface/huggingface_hub.\n",
      "  warnings.warn(warning_message, FutureWarning)\n"
     ]
    },
    {
     "data": {
      "text/plain": [
       "[Document(metadata={}, page_content='proess Proeses Asste MENT -03 ohat acbog BCERVATIONS ESTIDNN ALREC pesiod eenal obsenalenl woker -tark analy evgonere pokem lasies diglba allatcond asthe LNTE RVTEWs esbonnaley tme bal ( 3 ) VIDED TAPLNe pHo ToeP pHy Vidstapig Galcla Con vidotaping buknly'),\n",
       " Document(metadata={}, page_content='proess Proeses Asste MENT -03 ohat acbog BCERVATIONS ESTIDNN ALREC pesiod eenal obsenalenl woker -tark analy evgonere pokem lasies diglba allatcond asthe LNTE RVTEWs esbonnaley tme bal ( 3 ) VIDED TAPLNe pHo ToeP pHy Vidstapig Galcla Con vidotaping buknly'),\n",
       " Document(metadata={}, page_content='aL au asfulocah dasthet eleeticalase heludo eloctica Ponleiey , along distoa potable trols uch'),\n",
       " Document(metadata={}, page_content='aL au asfulocah dasthet eleeticalase heludo eloctica Ponleiey , along distoa potable trols uch')]"
      ]
     },
     "execution_count": 25,
     "metadata": {},
     "output_type": "execute_result"
    }
   ],
   "source": [
    "db.similarity_search('what is Proeses')"
   ]
  },
  {
   "cell_type": "code",
   "execution_count": null,
   "metadata": {},
   "outputs": [],
   "source": []
  }
 ],
 "metadata": {
  "kernelspec": {
   "display_name": "myenv",
   "language": "python",
   "name": "python3"
  },
  "language_info": {
   "codemirror_mode": {
    "name": "ipython",
    "version": 3
   },
   "file_extension": ".py",
   "mimetype": "text/x-python",
   "name": "python",
   "nbconvert_exporter": "python",
   "pygments_lexer": "ipython3",
   "version": "3.12.8"
  }
 },
 "nbformat": 4,
 "nbformat_minor": 2
}
